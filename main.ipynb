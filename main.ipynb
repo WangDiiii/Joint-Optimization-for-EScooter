{
 "cells": [
  {
   "cell_type": "code",
   "execution_count": null,
   "id": "74000422-eaf3-4e0d-8716-01f56556f74d",
   "metadata": {
    "tags": []
   },
   "outputs": [],
   "source": [
    "pip install plotnine ortools"
   ]
  },
  {
   "cell_type": "code",
   "execution_count": null,
   "id": "12946681-e811-41f9-b1cb-9dff310bd47b",
   "metadata": {
    "collapsed": true,
    "jupyter": {
     "outputs_hidden": true
    },
    "tags": []
   },
   "outputs": [
    {
     "name": "stdout",
     "output_type": "stream",
     "text": [
      "100 zones have been selected, covered 91.64% trips\n",
      "raw_data: [[['257', -20.0], ['258', 20.0], ['279', -20.0], ['258', 20.0], ['215', -16.0], ['194', 16.0], ['32', -16.0], ['31', 16.0], ['11', -13.0], ['31', 13.0], ['250', -14.0], ['251', 14.0], ['159', -14.0], ['160', 14.0]], [['48', -45.0], ['46', 45.0]], [['69', -80.0], ['139', 80.0], ['48', -49.0], ['28', 49.0], ['90', -80.0], ['91', 80.0], ['279', -30.0], ['280', 30.0], ['279', -19.0], ['281', 19.0], ['111', -32.0], ['132', 32.0], ['180', -14.0], ['183', 14.0]], [['69', -80.0], ['205', 80.0], ['50', -76.0], ['183', 76.0], ['49', -42.0], ['10', 42.0], ['90', -58.0], ['132', 58.0], ['73', -78.0], ['183', 78.0], ['278', -41.0], ['300', 41.0], ['299', -31.0], ['321', 31.0]], [['48', -80.0], ['160', 80.0], ['90', -48.0], ['89', 48.0], ['47', -80.0], ['89', 80.0], ['72', -68.0], ['94', 68.0], ['70', -53.0], ['160', 53.0], ['71', -52.0], ['160', 52.0], ['111', -43.0], ['175', 43.0]]]\n",
      "coords: [[10, 5], [6, 3], [8, 2], [7, 2], [6, 2], [6, 4], [10, 3], [5, 2], [5, 13], [9, 3], [5, 12], [7, 3], [8, 3], [6, 13], [10, 1], [6, 5], [4, 2], [5, 3], [9, 2], [5, 11], [5, 14], [6, 14], [13, 7], [7, 14], [15, 8], [6, 16], [13, 6], [10, 2], [8, 1], [7, 1], [16, 9], [6, 12], [5, 4], [14, 7], [12, 5], [3, 11], [11, 3], [4, 11], [6, 10], [4, 12], [9, 1], [6, 1], [5, 17], [14, 8], [5, 8], [5, 10], [7, 5], [5, 9], [5, 5], [6, 8], [12, 2], [8, 5], [17, 9], [5, 16], [6, 15], [10, 0], [10, 4], [8, 4], [18, 10], [7, 4], [5, 15], [12, 0], [4, 16], [6, 6], [18, 13], [12, 6], [6, 9], [13, 0], [4, 13], [20, 11], [9, 4], [11, 1], [5, 6], [11, 0], [17, 12], [4, 15], [10, 5], [6, 11], [8, 14], [7, 13], [17, 10], [6, 17], [7, 15], [11, 4], [7, 8], [8, 6], [9, 5], [16, 8], [12, 8], [4, 3], [8, 15], [6, 7], [19, 11], [17, 13], [5, 1], [12, 7], [11, 5], [8, 13], [7, 6], [7, 9], [4, 14]]\n",
      "Solving VRP over tf 0...\n",
      "\n",
      "{0: 0, 1: 257, 2: 279, 3: 215, 4: 32, 5: 11, 6: 250, 7: 159, 8: 258, 9: 194, 10: 31, 11: 251, 12: 160}\n",
      "FEASIBLE over time frame: 0\n",
      "while...\n",
      "Solving VRP over tf 1...\n",
      "\n",
      "{0: 0, 1: 48, 2: 46}\n",
      "OPTIMAL over time frame: 1\n",
      "while...\n",
      "Solving VRP over tf 2...\n",
      "\n",
      "{0: 0, 1: 69, 2: 48, 3: 90, 4: 279, 5: 111, 6: 180, 7: 139, 8: 28, 9: 91, 10: 280, 11: 281, 12: 132, 13: 183}\n",
      "FEASIBLE over time frame: 2\n",
      "while...\n",
      "Solving VRP over tf 3...\n",
      "\n",
      "{0: 0, 1: 69, 2: 50, 3: 49, 4: 90, 5: 73, 6: 278, 7: 299, 8: 205, 9: 183, 10: 10, 11: 132, 12: 300, 13: 321}\n",
      "FEASIBLE over time frame: 3\n",
      "while...\n"
     ]
    }
   ],
   "source": [
    "from main import *\n",
    "\n",
    "# np.random.seed(6)\n",
    "np.random.seed(6)\n",
    "\n",
    "paras_relocation = {'N_scooter': 2000, 'N_truck': 7, 'C_truck': 80, 'Incoming': 10, 'Cm': 0.25, 'Cn': 0.2}\n",
    "optimization = 5\n",
    "lookahead = 2\n",
    "    # C_truck - capacity of each truck\n",
    "    # Incoming - incoming per trip\n",
    "    # Cm - relocation cost / unit mileage cost\n",
    "    # Cn - relocation cost / unit number of scooters cost\n",
    "paras_vrp = {'C_trucks': 500, 'N_trucks': 7, 'T': 5400, 'Sr': 20, 'Tr': 0.18}\n",
    "vrp_model = 's1'\n",
    "    # T: duration of one timeframe\n",
    "    # Sr: service time per scooter\n",
    "    # Tr: travel time parameter (inverse of truck speed)\n",
    "    # vrp_model: s1 - need large C&N_truck\n",
    "    #             s2 - zones can be ignored\n",
    "\n",
    "# paras_relocation['N_scooter'] = 100\n",
    "# paras_relocation = {'N_scooter': 200, 'N_truck': 0, 'C_truck': 20, 'Incoming': 10, 'Cm': 1, 'Cn': 0.1}\n",
    "# optimization = 5\n",
    "# lookahead = 2\n",
    "# main(paras_relocation, optimization, lookahead, paras_vrp, vrp_model,'toy_case', 8, N_zones=8, verbose=False)\n",
    "main(paras_relocation, optimization, lookahead, paras_vrp, vrp_model, 'Louisville', 10, N_zones=100, coord_depot=[10,5], verbose=False)"
   ]
  },
  {
   "cell_type": "code",
   "execution_count": null,
   "id": "2465c62d-62df-4b6d-8b7f-bb32ac46ac9f",
   "metadata": {},
   "outputs": [],
   "source": [
    "from main import *\n",
    "\n",
    "paras_relocation = {'N_scooter': 150, 'N_truck': 5, 'C_truck': 10, 'Incoming': 10, 'Cm': 0.00001, 'Cn': 0.01}\n",
    "optimization = 3\n",
    "lookahead = 1\n",
    "    # C_truck - capacity of each truck\n",
    "    # Incoming - incoming per trip\n",
    "    # Cm - relocation cost / unit mileage cost\n",
    "    # Cn - relocation cost / unit number of scooters cost\n",
    "paras_vrp = {'C_trucks': 200, 'N_trucks': 2, 'T': 700, 'Sr': 1, 'Tr': 0.00001}\n",
    "vrp_model = 's1'\n",
    "    # T: duration of one timeframe\n",
    "    # Sr: service time per scooter\n",
    "    # Tr: travel time parameter (inverse of truck speed)\n",
    "    # vrp_model: s1 - need large C&N_truck\n",
    "    #             s2 - zones can be ignored\n",
    "\n",
    "# paras_relocation['N_scooter'] = 100\n",
    "# main(paras_relocation, optimization, lookahead, paras_vrp, vrp_model,'toy_case',N_zones=8)\n",
    "nzones = 145\n",
    "for i in range(1):\n",
    "    nzones += 5\n",
    "    paras_relocation['N_scooter'] = 10*nzones\n",
    "    main(paras_relocation, optimization, lookahead, paras_vrp, vrp_model, 'Louisville', nzones, N_zones=nzones, coord_depot=[6,12])"
   ]
  },
  {
   "cell_type": "code",
   "execution_count": null,
   "id": "633d6edf-9a1d-4bb8-8bee-886cb04da471",
   "metadata": {},
   "outputs": [],
   "source": []
  }
 ],
 "metadata": {
  "kernelspec": {
   "display_name": "Python 3 (ipykernel)",
   "language": "python",
   "name": "python3"
  },
  "language_info": {
   "codemirror_mode": {
    "name": "ipython",
    "version": 3
   },
   "file_extension": ".py",
   "mimetype": "text/x-python",
   "name": "python",
   "nbconvert_exporter": "python",
   "pygments_lexer": "ipython3",
   "version": "3.7.12"
  }
 },
 "nbformat": 4,
 "nbformat_minor": 5
}
